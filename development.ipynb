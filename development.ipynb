{
 "cells": [
  {
   "cell_type": "markdown",
   "metadata": {},
   "source": [
    "## Area Level Cyclability\n",
    "\n",
    "### Structure\n",
    "\n",
    "- Get LSOAs / local authority boundaries\n",
    "- For a single LSOA\n",
    "    - Get historical data (2016 vs 2021)\n",
    "    - Some quality checks on data\n",
    "    - Calculate LTS 2016 vs 2021\n",
    "    - Analyse impact over time\n",
    "- Network measures using LTS\n",
    "    - Connectivity at different LTS levels\n",
    "    - Other graph measures, separate research to bring in idea/insights for this section"
   ]
  },
  {
   "cell_type": "code",
   "execution_count": 1,
   "metadata": {},
   "outputs": [],
   "source": [
    "import osmnx as ox\n",
    "import geopandas as gpd\n",
    "import pandas as pd"
   ]
  },
  {
   "cell_type": "code",
   "execution_count": 15,
   "metadata": {},
   "outputs": [],
   "source": [
    "ox.settings.overpass_settings = '[out:json][timeout:90][date:\"2016-10-28T19:20:00Z\"]'"
   ]
  },
  {
   "cell_type": "code",
   "execution_count": 2,
   "metadata": {},
   "outputs": [],
   "source": [
    "#Import LSOAs\n",
    "\n",
    "lsoas = gpd.read_file('data/LSOA_2011_Boundaries_Super_Generalised_Clipped_BSC_EW_V4_6029841263726194941.gpkg').to_crs(4326)\n",
    "lsoas = pd.concat([lsoas, lsoas.bounds], axis=1)"
   ]
  },
  {
   "cell_type": "code",
   "execution_count": 3,
   "metadata": {},
   "outputs": [],
   "source": [
    "lsoa = lsoas.iloc[0]"
   ]
  },
  {
   "cell_type": "code",
   "execution_count": 16,
   "metadata": {},
   "outputs": [],
   "source": [
    "G_2019 = ox.graph_from_bbox(lsoa['maxy'],lsoa['miny'],lsoa['minx'],lsoa['maxx'],network_type = 'bike',retain_all=True,simplify=False)"
   ]
  },
  {
   "cell_type": "code",
   "execution_count": 17,
   "metadata": {},
   "outputs": [],
   "source": [
    "edge_attributes = ox.graph_to_gdfs(G_2019, nodes=True)[1]"
   ]
  },
  {
   "cell_type": "code",
   "execution_count": 19,
   "metadata": {},
   "outputs": [],
   "source": [
    "edge_attributes_gdf = gpd.GeoDataFrame(edge_attributes[['osmid','geometry']], crs=\"EPSG:4326\", geometry=edge_attributes['geometry'])\n",
    "edge_attributes_gdf.to_file('data/outputs/lsoa_example.geojson', driver='GeoJSON')"
   ]
  }
 ],
 "metadata": {
  "kernelspec": {
   "display_name": "ate",
   "language": "python",
   "name": "python3"
  },
  "language_info": {
   "codemirror_mode": {
    "name": "ipython",
    "version": 3
   },
   "file_extension": ".py",
   "mimetype": "text/x-python",
   "name": "python",
   "nbconvert_exporter": "python",
   "pygments_lexer": "ipython3",
   "version": "3.10.13"
  }
 },
 "nbformat": 4,
 "nbformat_minor": 2
}
