{
 "cells": [
  {
   "cell_type": "markdown",
   "metadata": {},
   "source": [
    "## Area Level Cyclability\n",
    "\n",
    "### Structure\n",
    "\n",
    "- Get LSOAs / local authority boundaries\n",
    "- For a single LSOA\n",
    "    - Get historical data (2016 vs 2021)\n",
    "    - Some quality checks on data\n",
    "    - Calculate LTS 2016 vs 2021\n",
    "    - Analyse impact over time\n",
    "- Network measures using LTS\n",
    "    - Connectivity at different LTS levels\n",
    "    - Other graph measures, separate research to bring in idea/insights for this section"
   ]
  },
  {
   "cell_type": "code",
   "execution_count": 2,
   "metadata": {},
   "outputs": [],
   "source": [
    "import osmnx as ox\n",
    "import geopandas as gpd\n",
    "import pandas as pd\n",
    "import matplotlib.pyplot as plt\n",
    "import seaborn as sns\n",
    "from shapely.geometry import box\n",
    "from shapely.ops import transform\n",
    "from functools import partial\n",
    "import pyproj\n",
    "\n",
    "\n",
    "#Below function from ChatGPT\n",
    "#Get expanded network - method 1 km buffer\n",
    "def expand_bbox(original_bbox, expansion_distance_km=5):\n",
    "    # Create a Shapely geometry object for the original bounding box\n",
    "    original_geometry = box(*original_bbox)\n",
    "\n",
    "    # Define a function to project the geometry to a new coordinate reference system\n",
    "    project = partial(\n",
    "        pyproj.transform,\n",
    "        pyproj.Proj(init='epsg:4326'),  # WGS 84 coordinate reference system\n",
    "        pyproj.Proj(proj='utm', zone=33, ellps='WGS84')  # Example: UTM Zone 33\n",
    "    )\n",
    "\n",
    "    # Project the original geometry to the new coordinate reference system\n",
    "    projected_geometry = transform(project, original_geometry)\n",
    "\n",
    "    # Calculate the expansion distance in the projected coordinate system\n",
    "    expansion_distance_meters = expansion_distance_km * 1000\n",
    "\n",
    "    # Expand the geometry by the specified distance\n",
    "    expanded_geometry = projected_geometry.buffer(expansion_distance_meters)\n",
    "\n",
    "    # Project the expanded geometry back to the original coordinate reference system\n",
    "    expanded_geometry = transform(partial(pyproj.transform, pyproj.Proj(proj='utm', zone=33, ellps='WGS84'), pyproj.Proj(init='epsg:4326')), expanded_geometry)\n",
    "\n",
    "    # Get the coordinates of the expanded bounding box\n",
    "    expanded_bbox = expanded_geometry.bounds\n",
    "\n",
    "    return expanded_bbox, expanded_geometry"
   ]
  },
  {
   "cell_type": "code",
   "execution_count": 83,
   "metadata": {},
   "outputs": [],
   "source": [
    "# Import MSOA lookup\n",
    "msoas = gpd.read_file('data/MSOA_EngWal_Dec_2011_Generalised_ClippedEW_0/Middle_Layer_Super_Output_Areas_December_2011_Generalised_Clipped_Boundaries_in_England_and_Wales.shp').to_crs(4326).set_index('msoa11cd')"
   ]
  },
  {
   "cell_type": "code",
   "execution_count": 4,
   "metadata": {},
   "outputs": [],
   "source": [
    "# Import MSOA 2011 OD data\n",
    "od_data = pd.read_parquet('data/od_2011.parquet')"
   ]
  },
  {
   "cell_type": "code",
   "execution_count": 5,
   "metadata": {},
   "outputs": [],
   "source": [
    "#Import LSOAs\n",
    "\n",
    "lsoas = gpd.read_file('data/LSOA_2011_Boundaries_Super_Generalised_Clipped_BSC_EW_V4_6029841263726194941.gpkg').to_crs(4326)\n",
    "lsoas = pd.concat([lsoas, lsoas.bounds], axis=1)"
   ]
  },
  {
   "cell_type": "code",
   "execution_count": 6,
   "metadata": {},
   "outputs": [
    {
     "name": "stderr",
     "output_type": "stream",
     "text": [
      "/tmp/ipykernel_159026/4023548689.py:3: DtypeWarning: Columns (9) have mixed types. Specify dtype option on import or set low_memory=False.\n",
      "  lookup = pd.read_csv('data/PCD11_OA11_LSOA11_MSOA11_LAD11_EW_LU_aligned_v2.csv')\n"
     ]
    }
   ],
   "source": [
    "#Import lsoa to msoa look up\n",
    "\n",
    "lookup = pd.read_csv('data/PCD11_OA11_LSOA11_MSOA11_LAD11_EW_LU_aligned_v2.csv')"
   ]
  },
  {
   "cell_type": "code",
   "execution_count": 23,
   "metadata": {},
   "outputs": [],
   "source": [
    "test_lsoa = lookup[lookup['PCD8'] == 'SE15 5PD']"
   ]
  },
  {
   "cell_type": "markdown",
   "metadata": {},
   "source": [
    "### Select a test LSOA"
   ]
  },
  {
   "cell_type": "code",
   "execution_count": 24,
   "metadata": {},
   "outputs": [],
   "source": [
    "lsoa = lsoas[lsoas['LSOA11CD'] == test_lsoa['LSOA11CD'].values[0]]"
   ]
  },
  {
   "cell_type": "markdown",
   "metadata": {},
   "source": [
    "### Get data from 2016 and 2021 to make some high level comparisons"
   ]
  },
  {
   "cell_type": "code",
   "execution_count": 21,
   "metadata": {},
   "outputs": [
    {
     "name": "stderr",
     "output_type": "stream",
     "text": [
      "/home/chris/miniconda3/envs/ate/lib/python3.10/site-packages/shapely/geometry/polygon.py:91: FutureWarning: Calling float on a single element Series is deprecated and will raise a TypeError in the future. Use float(ser.iloc[0]) instead\n",
      "  return [float(c) for c in o]\n",
      "/home/chris/miniconda3/envs/ate/lib/python3.10/site-packages/shapely/geometry/polygon.py:91: FutureWarning: Calling float on a single element Series is deprecated and will raise a TypeError in the future. Use float(ser.iloc[0]) instead\n",
      "  return [float(c) for c in o]\n"
     ]
    }
   ],
   "source": [
    "ox.settings.overpass_settings = '[out:json][timeout:90][date:\"2016-06-01T01:00:00Z\"]'\n",
    "G_2016 = ox.graph_from_bbox(lsoa['maxy'],lsoa['miny'],lsoa['minx'],lsoa['maxx'],network_type = 'bike',retain_all=True,simplify=False)\n",
    "edge_attributes_2016 = ox.graph_to_gdfs(G_2016, nodes=True)[1]\n",
    "\n",
    "edge_attributes_gdf = gpd.GeoDataFrame(edge_attributes_2016[['osmid','geometry']], crs=\"EPSG:4326\", geometry=edge_attributes_2016['geometry'])\n",
    "edge_attributes_gdf.to_file('data/outputs/lsoa_example_2016.geojson', driver='GeoJSON')\n",
    "\n",
    "ox.settings.overpass_settings = '[out:json][timeout:90][date:\"2021-06-01T01:00:00Z\"]'\n",
    "G_2021 = ox.graph_from_bbox(lsoa['maxy'],lsoa['miny'],lsoa['minx'],lsoa['maxx'],network_type = 'bike',retain_all=True,simplify=False)\n",
    "edge_attributes_2021 = ox.graph_to_gdfs(G_2021, nodes=True)[1]\n",
    "\n",
    "edge_attributes_gdf = gpd.GeoDataFrame(edge_attributes_2021[['osmid','geometry']], crs=\"EPSG:4326\", geometry=edge_attributes_2021['geometry'])\n",
    "edge_attributes_gdf.to_file('data/outputs/lsoa_example_2021.geojson', driver='GeoJSON')"
   ]
  },
  {
   "cell_type": "code",
   "execution_count": 25,
   "metadata": {},
   "outputs": [
    {
     "name": "stderr",
     "output_type": "stream",
     "text": [
      "/home/chris/miniconda3/envs/ate/lib/python3.10/site-packages/shapely/geometry/polygon.py:91: FutureWarning: Calling float on a single element Series is deprecated and will raise a TypeError in the future. Use float(ser.iloc[0]) instead\n",
      "  return [float(c) for c in o]\n",
      "/home/chris/miniconda3/envs/ate/lib/python3.10/site-packages/pyproj/crs/crs.py:141: FutureWarning: '+init=<authority>:<code>' syntax is deprecated. '<authority>:<code>' is the preferred initialization method. When making the change, be mindful of axis order changes: https://pyproj4.github.io/pyproj/stable/gotchas.html#axis-order-changes-in-proj-6\n",
      "  in_crs_string = _prepare_from_proj_string(in_crs_string)\n",
      "/home/chris/miniconda3/envs/ate/lib/python3.10/site-packages/shapely/ops.py:276: FutureWarning: This function is deprecated. See: https://pyproj4.github.io/pyproj/stable/gotchas.html#upgrading-to-pyproj-2-from-pyproj-1\n",
      "  shell = type(geom.exterior)(zip(*func(*zip(*geom.exterior.coords))))\n",
      "/home/chris/miniconda3/envs/ate/lib/python3.10/site-packages/pyproj/crs/crs.py:141: FutureWarning: '+init=<authority>:<code>' syntax is deprecated. '<authority>:<code>' is the preferred initialization method. When making the change, be mindful of axis order changes: https://pyproj4.github.io/pyproj/stable/gotchas.html#axis-order-changes-in-proj-6\n",
      "  in_crs_string = _prepare_from_proj_string(in_crs_string)\n",
      "/home/chris/miniconda3/envs/ate/lib/python3.10/site-packages/shapely/ops.py:276: FutureWarning: This function is deprecated. See: https://pyproj4.github.io/pyproj/stable/gotchas.html#upgrading-to-pyproj-2-from-pyproj-1\n",
      "  shell = type(geom.exterior)(zip(*func(*zip(*geom.exterior.coords))))\n",
      "/home/chris/miniconda3/envs/ate/lib/python3.10/site-packages/shapely/geometry/polygon.py:91: FutureWarning: Calling float on a single element Series is deprecated and will raise a TypeError in the future. Use float(ser.iloc[0]) instead\n",
      "  return [float(c) for c in o]\n"
     ]
    },
    {
     "name": "stdout",
     "output_type": "stream",
     "text": [
      "Original Bounding Box: (3968   -0.078855\n",
      "Name: minx, dtype: float64, 3968    51.470099\n",
      "Name: miny, dtype: float64, 3968   -0.072779\n",
      "Name: maxx, dtype: float64, 3968    51.474253\n",
      "Name: maxy, dtype: float64)\n",
      "Expanded Bounding Box: (-0.0859587591454154, 51.465662202760164, -0.0656751384452257, 51.47868943075723)\n"
     ]
    }
   ],
   "source": [
    "#Get expanded network\n",
    "\n",
    "original_bbox = (lsoa['minx'], lsoa['miny'], lsoa['maxx'], lsoa['maxy'])  # Replace with your original bounding box coordinates\n",
    "expanded_bbox, expanded_geometry = expand_bbox(original_bbox, expansion_distance_km=0.5)\n",
    "print(\"Original Bounding Box:\", original_bbox)\n",
    "print(\"Expanded Bounding Box:\", expanded_bbox)\n",
    "\n",
    "bbox_original = box(lsoa['minx'], lsoa['miny'], lsoa['maxx'], lsoa['maxy'])\n",
    "gpd.GeoSeries([bbox_original]).to_file('data/outputs/box_orig.geojson', driver='GeoJSON')\n",
    "\n",
    "box_expanded = box(expanded_bbox[2],expanded_bbox[1],expanded_bbox[0],expanded_bbox[3])\n",
    "gpd.GeoSeries([box_expanded]).to_file('data/outputs/box_expanded.geojson', driver='GeoJSON')\n",
    "\n",
    "ox.settings.overpass_settings = '[out:json][timeout:90][date:\"2016-06-01T01:00:00Z\"]'\n",
    "G_2016_exp_buffer = ox.graph_from_bbox(expanded_bbox[3],expanded_bbox[1],expanded_bbox[2],expanded_bbox[0],network_type = 'bike',retain_all=True,simplify=False)\n",
    "edge_attributes_2016_exp_buffer = ox.graph_to_gdfs(G_2016_exp_buffer, nodes=True)[1]\n",
    "\n",
    "edge_attributes_gdf = gpd.GeoDataFrame(edge_attributes_2016_exp_buffer[['osmid','geometry']], crs=\"EPSG:4326\", geometry=edge_attributes_2016_exp_buffer['geometry'])\n",
    "edge_attributes_gdf.to_file('data/outputs/lsoa_example_2016_exp_buffer.geojson', driver='GeoJSON')\n",
    "\n",
    "ox.settings.overpass_settings = '[out:json][timeout:90][date:\"2021-06-01T01:00:00Z\"]'\n",
    "G_2021_exp_buffer = ox.graph_from_bbox(expanded_bbox[3],expanded_bbox[1],expanded_bbox[2],expanded_bbox[0],network_type = 'bike',retain_all=True,simplify=False)\n",
    "edge_attributes_2021_exp_buffer = ox.graph_to_gdfs(G_2021_exp_buffer, nodes=True)[1]\n",
    "\n",
    "edge_attributes_gdf = gpd.GeoDataFrame(edge_attributes_2021_exp_buffer[['osmid','geometry']], crs=\"EPSG:4326\", geometry=edge_attributes_2021_exp_buffer['geometry'])\n",
    "edge_attributes_gdf.to_file('data/outputs/lsoa_example_2021_exp_buffer.geojson', driver='GeoJSON')"
   ]
  },
  {
   "cell_type": "code",
   "execution_count": null,
   "metadata": {},
   "outputs": [],
   "source": [
    "#Get expanded network - method 2 use 2011 OD data - expanded box and/or coridor/buffer approach"
   ]
  },
  {
   "cell_type": "code",
   "execution_count": 26,
   "metadata": {},
   "outputs": [
    {
     "data": {
      "text/html": [
       "<div>\n",
       "<style scoped>\n",
       "    .dataframe tbody tr th:only-of-type {\n",
       "        vertical-align: middle;\n",
       "    }\n",
       "\n",
       "    .dataframe tbody tr th {\n",
       "        vertical-align: top;\n",
       "    }\n",
       "\n",
       "    .dataframe thead th {\n",
       "        text-align: right;\n",
       "    }\n",
       "</style>\n",
       "<table border=\"1\" class=\"dataframe\">\n",
       "  <thead>\n",
       "    <tr style=\"text-align: right;\">\n",
       "      <th></th>\n",
       "      <th>PCD7</th>\n",
       "      <th>PCD8</th>\n",
       "      <th>OA11CD</th>\n",
       "      <th>LSOA11CD</th>\n",
       "      <th>LSOA11NM</th>\n",
       "      <th>MSOA11CD</th>\n",
       "      <th>MSOA11NM</th>\n",
       "      <th>LAD11CD</th>\n",
       "      <th>LAD11NM</th>\n",
       "      <th>LAD11NMW</th>\n",
       "      <th>PCDOASPLT</th>\n",
       "    </tr>\n",
       "  </thead>\n",
       "  <tbody>\n",
       "    <tr>\n",
       "      <th>56984</th>\n",
       "      <td>SE155PD</td>\n",
       "      <td>SE15 5PD</td>\n",
       "      <td>E00020481</td>\n",
       "      <td>E01004066</td>\n",
       "      <td>Southwark 025E</td>\n",
       "      <td>E02000831</td>\n",
       "      <td>Southwark 025</td>\n",
       "      <td>E09000028</td>\n",
       "      <td>Southwark</td>\n",
       "      <td>NaN</td>\n",
       "      <td>0</td>\n",
       "    </tr>\n",
       "  </tbody>\n",
       "</table>\n",
       "</div>"
      ],
      "text/plain": [
       "          PCD7      PCD8     OA11CD   LSOA11CD        LSOA11NM   MSOA11CD  \\\n",
       "56984  SE155PD  SE15 5PD  E00020481  E01004066  Southwark 025E  E02000831   \n",
       "\n",
       "            MSOA11NM    LAD11CD    LAD11NM LAD11NMW  PCDOASPLT  \n",
       "56984  Southwark 025  E09000028  Southwark      NaN          0  "
      ]
     },
     "execution_count": 26,
     "metadata": {},
     "output_type": "execute_result"
    }
   ],
   "source": [
    "test_lsoa"
   ]
  },
  {
   "cell_type": "code",
   "execution_count": 48,
   "metadata": {},
   "outputs": [],
   "source": [
    "bike_ods = od_data[(od_data['geo_code1'] == test_lsoa['MSOA11CD'].values[0]) & (od_data['bicycle'] > 0)][['geo_code2','bicycle']].set_index('geo_code2')\n",
    "bike_ods['geometry'] = msoas['geometry']\n",
    "bike_ods = bike_ods.dropna()"
   ]
  },
  {
   "cell_type": "code",
   "execution_count": 50,
   "metadata": {},
   "outputs": [],
   "source": [
    "bike_ods_gdf = gpd.GeoDataFrame(bike_ods, crs=\"EPSG:4326\", geometry=bike_ods['geometry'])\n",
    "bike_ods_gdf.to_file('data/outputs/od_bike.geojson', driver='GeoJSON')"
   ]
  },
  {
   "cell_type": "code",
   "execution_count": null,
   "metadata": {},
   "outputs": [],
   "source": [
    "#Get bounding box over LSOA and MSOA with highest commuter count"
   ]
  },
  {
   "cell_type": "code",
   "execution_count": 85,
   "metadata": {},
   "outputs": [],
   "source": [
    "origin_geom = lsoa['geometry'].values[0]"
   ]
  },
  {
   "cell_type": "code",
   "execution_count": 86,
   "metadata": {},
   "outputs": [],
   "source": [
    "destination_geom = msoas.loc[bike_ods['bicycle'].idxmax()]['geometry']"
   ]
  },
  {
   "cell_type": "code",
   "execution_count": 73,
   "metadata": {},
   "outputs": [],
   "source": [
    "from shapely.geometry import Polygon, MultiPolygon\n",
    "def create_bounding_box(multipolygon1, multipolygon2):\n",
    "    # Create Shapely geometry objects for each multipolygon\n",
    "    geometry1 = MultiPolygon(multipolygon1)\n",
    "    geometry2 = MultiPolygon(multipolygon2)\n",
    "\n",
    "    # Calculate the union of all polygons in each multipolygon\n",
    "    union_geometry1 = geometry1.convex_hull\n",
    "    union_geometry2 = geometry2.convex_hull\n",
    "\n",
    "    # Calculate the union of the convex hulls of the two multipolygons\n",
    "    union_geometry = union_geometry1.union(union_geometry2)\n",
    "\n",
    "    # Get the bounding box of the union geometry\n",
    "    bounding_box = union_geometry.bounds\n",
    "\n",
    "    return bounding_box\n"
   ]
  },
  {
   "cell_type": "code",
   "execution_count": 87,
   "metadata": {},
   "outputs": [],
   "source": [
    "bounding_box_od = create_bounding_box(origin_geom, destination_geom)"
   ]
  },
  {
   "cell_type": "code",
   "execution_count": 88,
   "metadata": {},
   "outputs": [],
   "source": [
    "od_box = box(bounding_box_od[2],bounding_box_od[1],bounding_box_od[0],bounding_box_od[3])\n",
    "gpd.GeoSeries([od_box]).to_file('data/outputs/box_od.geojson', driver='GeoJSON')"
   ]
  },
  {
   "cell_type": "code",
   "execution_count": 90,
   "metadata": {},
   "outputs": [],
   "source": [
    "ox.settings.overpass_settings = '[out:json][timeout:90][date:\"2016-06-01T01:00:00Z\"]'\n",
    "G_2016_od_buffer = ox.graph_from_bbox(bounding_box_od[3],bounding_box_od[1],bounding_box_od[2],bounding_box_od[0],network_type = 'bike',retain_all=True,simplify=False)\n",
    "edge_attributes_2016_od_buffer = ox.graph_to_gdfs(G_2016_od_buffer, nodes=True)[1]"
   ]
  },
  {
   "cell_type": "code",
   "execution_count": 91,
   "metadata": {},
   "outputs": [],
   "source": [
    "edge_attributes_gdf = gpd.GeoDataFrame(edge_attributes_2016_od_buffer[['osmid','geometry']], crs=\"EPSG:4326\", geometry=edge_attributes_2016_od_buffer['geometry'])\n",
    "edge_attributes_gdf.to_file('data/outputs/lsoa_example_2016_od_buffer.geojson', driver='GeoJSON')"
   ]
  },
  {
   "cell_type": "code",
   "execution_count": 93,
   "metadata": {},
   "outputs": [],
   "source": [
    "ox.settings.overpass_settings = '[out:json][timeout:90][date:\"2021-06-01T01:00:00Z\"]'\n",
    "G_2021_od_buffer = ox.graph_from_bbox(expanded_bbox[3],expanded_bbox[1],expanded_bbox[2],expanded_bbox[0],network_type = 'bike',retain_all=True,simplify=False)\n",
    "edge_attributes_2021_od_buffer = ox.graph_to_gdfs(G_2021_od_buffer, nodes=True)[1]\n",
    "\n",
    "edge_attributes_gdf = gpd.GeoDataFrame(edge_attributes_2021_od_buffer[['osmid','geometry']], crs=\"EPSG:4326\", geometry=edge_attributes_2021_od_buffer['geometry'])\n",
    "edge_attributes_gdf.to_file('data/outputs/lsoa_example_2021_od_buffer.geojson', driver='GeoJSON')"
   ]
  },
  {
   "cell_type": "code",
   "execution_count": null,
   "metadata": {},
   "outputs": [],
   "source": [
    "# Next Steps\n",
    "\n",
    "# Analysis of this then now data at all three levels\n",
    "# Measure LTS at all three levels and devise single metric (e.g., percentgae increase in LTS 1 and 2)\n",
    "# Routing Analysis\n",
    "# Network centrality"
   ]
  },
  {
   "cell_type": "code",
   "execution_count": null,
   "metadata": {},
   "outputs": [],
   "source": []
  },
  {
   "cell_type": "code",
   "execution_count": null,
   "metadata": {},
   "outputs": [],
   "source": [
    "#link to MSOA geoms\n"
   ]
  },
  {
   "cell_type": "code",
   "execution_count": null,
   "metadata": {},
   "outputs": [],
   "source": [
    "\n",
    "#Output\n",
    "\n"
   ]
  },
  {
   "cell_type": "code",
   "execution_count": null,
   "metadata": {},
   "outputs": [],
   "source": [
    "\n",
    "#Visualise"
   ]
  },
  {
   "cell_type": "code",
   "execution_count": null,
   "metadata": {},
   "outputs": [],
   "source": []
  },
  {
   "cell_type": "code",
   "execution_count": 6,
   "metadata": {},
   "outputs": [
    {
     "data": {
      "image/png": "[encoded data removed]",
      "text/plain": [
       "<Figure size 1000x400 with 2 Axes>"
      ]
     },
     "metadata": {},
     "output_type": "display_data"
    }
   ],
   "source": [
    "# Use value_counts to get counts of each category\n",
    "value_counts_2016 = edge_attributes_2016['highway'].value_counts()\n",
    "value_counts_2021 = edge_attributes_2021['highway'].value_counts()\n",
    "\n",
    "fig, axs = plt.subplots(1, 2, figsize=(10, 4))\n",
    "\n",
    "value_counts_2016.plot(kind='bar', ax = axs[0])\n",
    "axs[0].set_xlabel('Road Category')\n",
    "axs[0].set_ylabel('Count')\n",
    "axs[0].set_title('2016')\n",
    "\n",
    "value_counts_2021.plot(kind='bar', ax = axs[1])\n",
    "axs[1].set_xlabel('Road Category')\n",
    "axs[1].set_ylabel('Count')\n",
    "axs[1].set_title('2021')\n",
    "\n",
    "plt.tight_layout()\n",
    "plt.show()"
   ]
  },
  {
   "cell_type": "code",
   "execution_count": 7,
   "metadata": {},
   "outputs": [
    {
     "data": {
      "image/png": "[encoded data removed]",
      "text/plain": [
       "<Figure size 1000x400 with 2 Axes>"
      ]
     },
     "metadata": {},
     "output_type": "display_data"
    }
   ],
   "source": [
    "# Use value_counts to get counts of each category\n",
    "value_counts_2016 = edge_attributes_2016['maxspeed'].value_counts(dropna = False)\n",
    "value_counts_2021 = edge_attributes_2021['maxspeed'].value_counts(dropna = False)\n",
    "\n",
    "fig, axs = plt.subplots(1, 2, figsize=(10, 4))\n",
    "\n",
    "value_counts_2016.plot(kind='bar', ax = axs[0])\n",
    "axs[0].set_xlabel('Reported Speed Limit')\n",
    "axs[0].set_ylabel('Count')\n",
    "axs[0].set_title('2016')\n",
    "\n",
    "value_counts_2021.plot(kind='bar', ax = axs[1])\n",
    "axs[1].set_xlabel('Reported Speed Limit')\n",
    "axs[1].set_ylabel('Count')\n",
    "axs[1].set_title('2021')\n",
    "\n",
    "plt.tight_layout()\n",
    "plt.show()"
   ]
  },
  {
   "cell_type": "code",
   "execution_count": null,
   "metadata": {},
   "outputs": [],
   "source": [
    "# Get LTS\n",
    "\n",
    "#todo\n",
    "#Adapt OSM"
   ]
  }
 ],
 "metadata": {
  "kernelspec": {
   "display_name": "ate",
   "language": "python",
   "name": "python3"
  },
  "language_info": {
   "codemirror_mode": {
    "name": "ipython",
    "version": 3
   },
   "file_extension": ".py",
   "mimetype": "text/x-python",
   "name": "python",
   "nbconvert_exporter": "python",
   "pygments_lexer": "ipython3",
   "version": "3.10.13"
  }
 },
 "nbformat": 4,
 "nbformat_minor": 2
}
